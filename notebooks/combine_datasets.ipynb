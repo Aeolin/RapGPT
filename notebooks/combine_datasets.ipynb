{
 "cells": [
  {
   "cell_type": "code",
   "execution_count": 2,
   "id": "initial_id",
   "metadata": {
    "collapsed": true,
    "ExecuteTime": {
     "end_time": "2024-01-16T19:45:29.929078700Z",
     "start_time": "2024-01-16T19:45:29.920254600Z"
    }
   },
   "outputs": [],
   "source": [
    "import pandas as pd\n",
    "import json"
   ]
  },
  {
   "cell_type": "markdown",
   "source": [
    "combine both datasets"
   ],
   "metadata": {
    "collapsed": false
   },
   "id": "71d4b3f580fd8186"
  },
  {
   "cell_type": "code",
   "execution_count": 14,
   "outputs": [],
   "source": [
    "articles = pd.read_csv('../data/articles_labeled.csv', sep=';')\n",
    "products = pd.read_json('../data/products-en.json', orient='records')\n",
    "products.set_index('ProductNumber', inplace=True)\n",
    "\n",
    "results = list()\n",
    "for index, row in products.iterrows():\n",
    "    results.append({\n",
    "        'id': str(index),\n",
    "        'title': row['Name'],\n",
    "        'description': row['Description'],\n",
    "        'category': row['Category'],\n",
    "        'short_description': row['ShortDescription']\n",
    "    })\n",
    "    \n",
    "for index, row in articles.iterrows():\n",
    "    obj = json.loads(row['Artikel'])\n",
    "    category = row['Label']\n",
    "    \n",
    "    results.append({\n",
    "        'id': str(obj['id']),\n",
    "        'title': obj['title'],\n",
    "        'description': obj['description'],\n",
    "        'category': category,\n",
    "        'short_description': obj['subtitle']\n",
    "    })\n",
    "\n",
    "data = pd.DataFrame(results)\n",
    "data.to_json('../data/combined.json', orient='records')"
   ],
   "metadata": {
    "collapsed": false,
    "ExecuteTime": {
     "end_time": "2024-01-16T19:58:52.492099100Z",
     "start_time": "2024-01-16T19:58:52.384208500Z"
    }
   },
   "id": "adacff8dc8f23ded"
  },
  {
   "cell_type": "code",
   "execution_count": null,
   "outputs": [],
   "source": [],
   "metadata": {
    "collapsed": false
   },
   "id": "973b5ce3c3aef893"
  }
 ],
 "metadata": {
  "kernelspec": {
   "display_name": "Python 3",
   "language": "python",
   "name": "python3"
  },
  "language_info": {
   "codemirror_mode": {
    "name": "ipython",
    "version": 2
   },
   "file_extension": ".py",
   "mimetype": "text/x-python",
   "name": "python",
   "nbconvert_exporter": "python",
   "pygments_lexer": "ipython2",
   "version": "2.7.6"
  }
 },
 "nbformat": 4,
 "nbformat_minor": 5
}
