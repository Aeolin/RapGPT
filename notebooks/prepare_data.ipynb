{
 "cells": [
  {
   "cell_type": "code",
   "execution_count": 5,
   "id": "initial_id",
   "metadata": {
    "collapsed": true,
    "ExecuteTime": {
     "end_time": "2024-01-16T20:06:20.984449Z",
     "start_time": "2024-01-16T20:06:20.973678600Z"
    }
   },
   "outputs": [],
   "source": [
    "import random\n",
    "\n",
    "import numpy as np\n",
    "import pandas as pd\n",
    "from sklearn.model_selection import train_test_split\n",
    "from sklearn.preprocessing import StandardScaler, MinMaxScaler\n",
    "import random"
   ]
  },
  {
   "cell_type": "code",
   "execution_count": 18,
   "outputs": [],
   "source": [
    "products = pd.read_json('../data/combined.json', orient='records')\n",
    "products.set_index('id', inplace=True)\n",
    "categories = open('../data/labels.txt').read().split('\\n')\n",
    "category_count = len(categories)\n",
    "min_category_percentage = 0.7 # How many categories should be present in the prompt minimum\n",
    "max_category_percentage = 0.9 # How many categories should be present in the prompt maximum\n",
    "min_count = int(category_count * min_category_percentage)\n",
    "max_count = int(category_count * max_category_percentage)\n",
    "\n",
    "prompt = open('../data/prompt.txt').read()\n",
    "\n",
    "# columns=['prompt', 'expected_result', 'id', 'categories']\n",
    "prompts = list()\n",
    "for index, row in products.iterrows():\n",
    "    possible_categories = random.sample(categories, k=random.randint(min_count, max_count))\n",
    "    category = row['category']\n",
    "    data = row.to_dict()\n",
    "    data['categories'] = \", \".join(possible_categories)\n",
    "    prompt_text = prompt.format(**data)\n",
    "    prompts.append({'id': str(index), 'prompt': prompt_text, 'expected_result': (category if category in possible_categories else 'NONE'),  'categories': possible_categories})\n",
    "    \n",
    "df = pd.DataFrame(prompts)\n",
    "df.to_json('../data/training_data.json', orient='records', indent=4)"
   ],
   "metadata": {
    "collapsed": false,
    "ExecuteTime": {
     "end_time": "2024-01-16T20:12:24.651026500Z",
     "start_time": "2024-01-16T20:12:24.499841100Z"
    }
   },
   "id": "dc9f06925bb399e7"
  },
  {
   "cell_type": "code",
   "execution_count": null,
   "outputs": [],
   "source": [],
   "metadata": {
    "collapsed": false
   },
   "id": "8a616c9a63e69553"
  }
 ],
 "metadata": {
  "kernelspec": {
   "display_name": "Python 3",
   "language": "python",
   "name": "python3"
  },
  "language_info": {
   "codemirror_mode": {
    "name": "ipython",
    "version": 2
   },
   "file_extension": ".py",
   "mimetype": "text/x-python",
   "name": "python",
   "nbconvert_exporter": "python",
   "pygments_lexer": "ipython2",
   "version": "2.7.6"
  }
 },
 "nbformat": 4,
 "nbformat_minor": 5
}
